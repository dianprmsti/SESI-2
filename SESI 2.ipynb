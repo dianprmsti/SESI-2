{
 "cells": [
  {
   "cell_type": "markdown",
   "id": "934f5d60",
   "metadata": {},
   "source": [
    "IF ELSE DAN LOOP"
   ]
  },
  {
   "cell_type": "code",
   "execution_count": 1,
   "id": "184d8ba2",
   "metadata": {},
   "outputs": [
    {
     "name": "stdout",
     "output_type": "stream",
     "text": [
      "mahal\n"
     ]
    }
   ],
   "source": [
    "harga =  3000\n",
    "jumlah = 10\n",
    "if harga>jumlah:\n",
    "    print(\"mahal\")"
   ]
  },
  {
   "cell_type": "code",
   "execution_count": 2,
   "id": "9289878b",
   "metadata": {},
   "outputs": [
    {
     "name": "stdout",
     "output_type": "stream",
     "text": [
      "saya may 3, fff1, ndhd2\n"
     ]
    }
   ],
   "source": [
    "x = 3\n",
    "y = 2\n",
    "z = 2\n",
    "order =\"saya may {0}, fff{2}, ndhd{1}\"\n",
    "print(order.format(x,z,1))"
   ]
  },
  {
   "cell_type": "code",
   "execution_count": 3,
   "id": "6a36b601",
   "metadata": {},
   "outputs": [
    {
     "name": "stdout",
     "output_type": "stream",
     "text": [
      "ya benar\n",
      "ya benar\n",
      "ya benar\n"
     ]
    }
   ],
   "source": [
    "x = 2\n",
    "y = 3\n",
    "\n",
    "if x<y:\n",
    "    print('ya benar')\n",
    "if x>y:\n",
    "    print('ya benar')\n",
    "if x==y:\n",
    "    print('ya benar')\n",
    "if x<=y:\n",
    "    print('ya benar')\n",
    "if 'we' in ['we','wa','wo']:\n",
    "    print('ya benar')"
   ]
  },
  {
   "cell_type": "code",
   "execution_count": 4,
   "id": "a7bf7ec5",
   "metadata": {},
   "outputs": [
    {
     "name": "stdout",
     "output_type": "stream",
     "text": [
      "salah\n"
     ]
    }
   ],
   "source": [
    "x = 3\n",
    "y = 4\n",
    "\n",
    "if x>y:\n",
    "    print(\"ya\")\n",
    "if x<y:\n",
    "    print(\"salah\")"
   ]
  },
  {
   "cell_type": "code",
   "execution_count": 5,
   "id": "9d1d7f94",
   "metadata": {},
   "outputs": [
    {
     "name": "stdout",
     "output_type": "stream",
     "text": [
      "False\n"
     ]
    }
   ],
   "source": [
    "print (\"in\" in [\"we\", \"wo\"])"
   ]
  },
  {
   "cell_type": "markdown",
   "id": "26a84282",
   "metadata": {},
   "source": [
    "IF ELIF DAN ELSE"
   ]
  },
  {
   "cell_type": "code",
   "execution_count": 6,
   "id": "9410aa15",
   "metadata": {},
   "outputs": [
    {
     "name": "stdout",
     "output_type": "stream",
     "text": [
      "Mahal\n"
     ]
    }
   ],
   "source": [
    "harga_jeruk = 50000\n",
    "standar_harga = 30000\n",
    "# apabila jeruk lebih dari standar harga maka jeruk itu mahal dan apabila kurang dari standar harga maka jeruk itu murah, dan apabila hrg jeruk sama dengan standar maka biasa saja\n",
    "if harga_jeruk>standar_harga:\n",
    "    print('Mahal')\n",
    "elif harga_jeruk<standar_harga:\n",
    "    print('Murah')\n",
    "elif harga_jeruk==standar_harga:\n",
    "    print('Biasa')"
   ]
  },
  {
   "cell_type": "code",
   "execution_count": 7,
   "id": "ae7b28a6",
   "metadata": {},
   "outputs": [
    {
     "name": "stdout",
     "output_type": "stream",
     "text": [
      "Biasa\n"
     ]
    }
   ],
   "source": [
    "harga_jeruk = 30000\n",
    "standar_harga = 30000\n",
    "# apabila jeruk lebih dari standar harga maka jeruk itu mahal dan apabila kurang dari standar harga maka jeruk itu murah, dan apabila hrg jeruk sama dengan standar maka biasa saja\n",
    "if harga_jeruk>standar_harga:\n",
    "    print('Mahal')\n",
    "elif harga_jeruk<standar_harga:\n",
    "    print('Murah')\n",
    "else:\n",
    "    print('Biasa')"
   ]
  },
  {
   "cell_type": "code",
   "execution_count": 8,
   "id": "9bf7a26e",
   "metadata": {},
   "outputs": [
    {
     "name": "stdout",
     "output_type": "stream",
     "text": [
      "Mahal\n"
     ]
    }
   ],
   "source": [
    "# apabila jeruk lebih dari standar harga maka jeruk itu mahal dan apabila kurang dari sama dengan standar harga maka jeruk itu murah\n",
    "harga_jeruk = 70000\n",
    "standar_harga = 50000\n",
    "if harga_jeruk>standar_harga:\n",
    "    print('Mahal')\n",
    "else:\n",
    "    print('Murah')"
   ]
  },
  {
   "cell_type": "code",
   "execution_count": 9,
   "id": "cea0d424",
   "metadata": {},
   "outputs": [
    {
     "name": "stdin",
     "output_type": "stream",
     "text": [
      "Input Harga Jeruk= 90000\n"
     ]
    },
    {
     "name": "stdout",
     "output_type": "stream",
     "text": [
      "Mahal\n"
     ]
    }
   ],
   "source": [
    "# apabila jeruk lebih dari standar harga maka jeruk itu mahal dan apabila kurang dari sama dengan standar harga maka jeruk itu murah\n",
    "harga_jeruk = int(input('Input Harga Jeruk='))\n",
    "standar_harga = 30000\n",
    "if harga_jeruk>standar_harga:\n",
    "    print('Mahal')\n",
    "else:\n",
    "    print('Murah')"
   ]
  },
  {
   "cell_type": "code",
   "execution_count": 11,
   "id": "57862708",
   "metadata": {
    "scrolled": true
   },
   "outputs": [
    {
     "name": "stdin",
     "output_type": "stream",
     "text": [
      "masukan x: 80\n",
      "masukan y: 80\n"
     ]
    },
    {
     "name": "stdout",
     "output_type": "stream",
     "text": [
      "x setara dengan y\n"
     ]
    }
   ],
   "source": [
    "x = int(input(\"masukan x:\"))\n",
    "y = int(input(\"masukan y:\"))\n",
    "\n",
    "if x>y:\n",
    "\tprint(\"x > y adalah benar\")\n",
    "if x<y:\n",
    "    print(\"x < y adalah benar\")\n",
    "else:\n",
    "    print(\"x setara dengan y\")"
   ]
  },
  {
   "cell_type": "markdown",
   "id": "0cb1365e",
   "metadata": {},
   "source": [
    "quiz\n",
    "1. Anda adalah penjual pisang. Yang mana pisang anda berharga 3000.\n",
    "Buatlah sebuah program if-else yg memiliki kondisi, jika seseorang berbelanja di Anda lebih dari 100,000\n",
    "maka akan diberikan diskon 10%. Kalau lebih dari 50,000 namun kurang dari 100,000 maka akan diberi diskon 5%.\n",
    "Kalau kurang dari 50,000 maka tidak diberi diskon sama sekali.\n"
   ]
  },
  {
   "cell_type": "code",
   "execution_count": 16,
   "id": "1fbda9cf",
   "metadata": {},
   "outputs": [
    {
     "name": "stdout",
     "output_type": "stream",
     "text": [
      "berapa pisang yang anda beli?\n"
     ]
    },
    {
     "name": "stdin",
     "output_type": "stream",
     "text": [
      " 2\n"
     ]
    },
    {
     "name": "stdout",
     "output_type": "stream",
     "text": [
      "total belanja 6000\n"
     ]
    }
   ],
   "source": [
    "print('berapa pisang yang anda beli?')\n",
    "pisang = int(input())\n",
    "satupisang = 3000\n",
    "belanja = satupisang * pisang\n",
    "if belanja > 100000:\n",
    "    total = belanja - (belanja (10/100))\n",
    "    print('total belanja anda' + str(total) + '('+str(belanja) + 'diskon 10%)')\n",
    "elif belanja > 50000 and belanja < 100000:\n",
    "    total = belanja - (belanja (5/100))\n",
    "    print('total belanja anda' + str(total) + '('+str(belanja) + 'diskon 5%)')\n",
    "else:\n",
    "    total = belanja\n",
    "    print('total belanja ' + str (total))"
   ]
  },
  {
   "cell_type": "code",
   "execution_count": 17,
   "id": "46d4d93f",
   "metadata": {},
   "outputs": [
    {
     "name": "stdout",
     "output_type": "stream",
     "text": [
      "total belanja anda adalah IDR 85500 (90000 di diskon 5.0 %) \n"
     ]
    }
   ],
   "source": [
    "#Cara print variabel kedalam string\n",
    "harga = 85500\n",
    "harga_awal = 90000\n",
    "diskon = 0.05\n",
    "print('total belanja anda adalah IDR {} ({} di diskon {} %) '.format(harga,harga_awal,diskon*100))"
   ]
  },
  {
   "cell_type": "code",
   "execution_count": 18,
   "id": "782e9ed2",
   "metadata": {},
   "outputs": [
    {
     "name": "stdout",
     "output_type": "stream",
     "text": [
      "Mahal\n",
      "Banget\n",
      "2\n"
     ]
    }
   ],
   "source": [
    "harga_jeruk = 50000\n",
    "standar_harga = 30000\n",
    "# apabila jeruk lebih dari standar harga maka jeruk itu mahal dan apabila kurang dari standar harga maka jeruk itu murah, dan apabila hrg jeruk sama dengan standar maka biasa saja\n",
    "if harga_jeruk>standar_harga:\n",
    "    print('Mahal')\n",
    "    print('Banget')\n",
    "    print(1+1)\n",
    "elif harga_jeruk<standar_harga:\n",
    "    print('Murah')\n",
    "elif harga_jeruk==standar_harga:\n",
    "    print('Biasa')"
   ]
  },
  {
   "cell_type": "markdown",
   "id": "2cdd780b",
   "metadata": {},
   "source": [
    "ONE-LINE IF-STATEMENTS"
   ]
  },
  {
   "cell_type": "code",
   "execution_count": 19,
   "id": "481727d1",
   "metadata": {},
   "outputs": [
    {
     "name": "stdout",
     "output_type": "stream",
     "text": [
      "Murah\n"
     ]
    }
   ],
   "source": [
    "harga_jeruk = 20000\n",
    "standar_harga = 30000\n",
    "if harga_jeruk>standar_harga: print('Mahal');print('Banget');print(1+1)\n",
    "elif harga_jeruk<standar_harga: print('Murah')\n",
    "else: print('Biasa')"
   ]
  },
  {
   "cell_type": "markdown",
   "id": "b879a07a",
   "metadata": {},
   "source": [
    "CONDITIONAL EXPRESSIONS"
   ]
  },
  {
   "cell_type": "code",
   "execution_count": 20,
   "id": "fd024f77",
   "metadata": {},
   "outputs": [
    {
     "name": "stdout",
     "output_type": "stream",
     "text": [
      "Tua\n"
     ]
    }
   ],
   "source": [
    "umur = 37\n",
    "s = 'Tua' if umur >= 35 else 'Muda'\n",
    "print(s)"
   ]
  },
  {
   "cell_type": "code",
   "execution_count": 21,
   "id": "cb5f38f2",
   "metadata": {},
   "outputs": [
    {
     "name": "stdout",
     "output_type": "stream",
     "text": [
      "Out of Class\n"
     ]
    }
   ],
   "source": [
    "nama = 'dian'\n",
    "n = 'In Class' if nama in ['pramesti','adam'] else 'Out of Class'\n",
    "print(n)"
   ]
  },
  {
   "cell_type": "code",
   "execution_count": 22,
   "id": "f82e3872",
   "metadata": {},
   "outputs": [
    {
     "name": "stdout",
     "output_type": "stream",
     "text": [
      "In Class\n"
     ]
    }
   ],
   "source": [
    "nama = 'dian'\n",
    "n = 'In Class' if nama in ['pramesti','dian'] else 'Out of Class'\n",
    "print(n)"
   ]
  },
  {
   "cell_type": "code",
   "execution_count": 23,
   "id": "180733b9",
   "metadata": {},
   "outputs": [
    {
     "name": "stdout",
     "output_type": "stream",
     "text": [
      "3.0\n",
      "<class 'float'>\n"
     ]
    }
   ],
   "source": [
    "#koemtar\n",
    "xj = 3.00\n",
    "print (xj)\n",
    "print (type(xj))"
   ]
  },
  {
   "cell_type": "markdown",
   "id": "b97dd5bf",
   "metadata": {},
   "source": [
    "quiz\n",
    "\n",
    "Anda adalah seorang pemilik perusahaan dan Anda berniat untuk memberi bonus kepada pegawai Anda.\n",
    "Buatlah program if-else yg memiliki kondisi, jika Year of Service seorang pegawai lebih dari 10 tahun,\n",
    "maka gajinya akan diberi bonus sebesar 10%.\n"
   ]
  },
  {
   "cell_type": "code",
   "execution_count": 26,
   "id": "a4f3b2fe",
   "metadata": {},
   "outputs": [
    {
     "name": "stdin",
     "output_type": "stream",
     "text": [
      "masukan masa kerja karyawan dalam tahun:  15\n",
      "masukan besaran gaji karyawan: 200000\n"
     ]
    },
    {
     "name": "stdout",
     "output_type": "stream",
     "text": [
      "karyawan layak mendapat bonus 10% dari gaji\n",
      "jumlah bonus yang diberikan: 20000.00\n"
     ]
    }
   ],
   "source": [
    "masakerja = float(input(\"masukan masa kerja karyawan dalam tahun: \"))\n",
    "gaji = float(input(\"masukan besaran gaji karyawan:\"))\n",
    "if masakerja>10:\n",
    "    bonus = 0.1\n",
    "    print(\"karyawan layak mendapat bonus 10% dari gaji\")\n",
    "else:\n",
    "    bonus = 0\n",
    "    print(\"karyawan tidak mendapat bonus\")\n",
    "    \n",
    "print(f\"jumlah bonus yang diberikan: {bonus*gaji:.2f}\")\n",
    "\n",
    "    "
   ]
  },
  {
   "cell_type": "markdown",
   "id": "68b083f4",
   "metadata": {},
   "source": [
    "LOOP\n",
    "\n",
    "- objek yang bisa di looping adalah itereble (string, list, tule, dictionary, dsb)\n",
    "- loop keseluruhan iterasi objek 1 loop diatas 4 iterasi\n",
    "- iterasi = istilah untuk 1 putaran loop\n",
    "- continue akan memberhentikan iterasi dan lanjut ke iterasi selanjutnya\n",
    "- break akan memberhentikan loop secara keseluruhan"
   ]
  },
  {
   "cell_type": "code",
   "execution_count": 27,
   "id": "55ce1fc0",
   "metadata": {},
   "outputs": [
    {
     "name": "stdout",
     "output_type": "stream",
     "text": [
      "fooayam\n",
      "barayam\n",
      "bazayam\n",
      "quxayam\n",
      "quuxayam\n",
      "corgeayam\n"
     ]
    }
   ],
   "source": [
    "for i in ['foo','bar','baz','qux','quux','corge']:\n",
    "    print(i+'ayam')"
   ]
  },
  {
   "cell_type": "code",
   "execution_count": 28,
   "id": "3d877a3a",
   "metadata": {},
   "outputs": [
    {
     "name": "stdout",
     "output_type": "stream",
     "text": [
      "2\n",
      "3\n",
      "4\n",
      "5\n"
     ]
    }
   ],
   "source": [
    "for i in [1,2,3,4]:\n",
    "    print(i+1)"
   ]
  },
  {
   "cell_type": "code",
   "execution_count": 29,
   "id": "400f22c7",
   "metadata": {},
   "outputs": [
    {
     "name": "stdout",
     "output_type": "stream",
     "text": [
      "d\n",
      "i\n",
      "a\n",
      "n\n"
     ]
    }
   ],
   "source": [
    "for i in 'dian':\n",
    "    print(i)"
   ]
  },
  {
   "cell_type": "markdown",
   "id": "96b67c60",
   "metadata": {},
   "source": [
    "WHILE LOOP"
   ]
  },
  {
   "cell_type": "code",
   "execution_count": 30,
   "id": "8988729c",
   "metadata": {},
   "outputs": [
    {
     "name": "stdout",
     "output_type": "stream",
     "text": [
      "4\n",
      "3\n",
      "2\n",
      "1\n",
      "0\n"
     ]
    }
   ],
   "source": [
    "apel = 5\n",
    "while apel>0:\n",
    "    apel-=1\n",
    "    print(apel)"
   ]
  },
  {
   "cell_type": "code",
   "execution_count": 31,
   "id": "098cb97e",
   "metadata": {},
   "outputs": [
    {
     "name": "stdout",
     "output_type": "stream",
     "text": [
      "5\n"
     ]
    }
   ],
   "source": [
    "apel = 6\n",
    "apel -=1\n",
    "print(apel)"
   ]
  },
  {
   "cell_type": "code",
   "execution_count": 32,
   "id": "fef082d2",
   "metadata": {},
   "outputs": [
    {
     "name": "stdout",
     "output_type": "stream",
     "text": [
      "4\n",
      "3\n",
      "2\n",
      "woy tinggal 1 nih ati2 ya\n",
      "0\n"
     ]
    }
   ],
   "source": [
    "apel = 5\n",
    "while apel>0:\n",
    "    apel-=1\n",
    "    if apel ==1:\n",
    "        print('woy tinggal 1 nih ati2 ya')\n",
    "    else:\n",
    "        print(apel)"
   ]
  },
  {
   "cell_type": "markdown",
   "id": "0b276db6",
   "metadata": {},
   "source": [
    "break digunakan untuk memberhentikan loop"
   ]
  },
  {
   "cell_type": "code",
   "execution_count": 33,
   "id": "13d5e1fb",
   "metadata": {},
   "outputs": [
    {
     "name": "stdout",
     "output_type": "stream",
     "text": [
      "4\n",
      "3\n",
      "Loop Ended\n"
     ]
    }
   ],
   "source": [
    "apel = 5\n",
    "while apel>0:\n",
    "    apel-=1\n",
    "    if apel ==2:\n",
    "        break\n",
    "    print(apel)\n",
    "print('Loop Ended')"
   ]
  },
  {
   "cell_type": "code",
   "execution_count": 34,
   "id": "d12b4056",
   "metadata": {},
   "outputs": [
    {
     "data": {
      "text/plain": [
       "2"
      ]
     },
     "execution_count": 34,
     "metadata": {},
     "output_type": "execute_result"
    }
   ],
   "source": [
    "apel"
   ]
  },
  {
   "cell_type": "markdown",
   "id": "1204c25f",
   "metadata": {},
   "source": [
    "continue digunakan untuk melanjutkan loop berdasarkan kondisi"
   ]
  },
  {
   "cell_type": "code",
   "execution_count": 35,
   "id": "d58119a1",
   "metadata": {},
   "outputs": [
    {
     "name": "stdout",
     "output_type": "stream",
     "text": [
      "4\n",
      "3\n",
      "1\n",
      "0\n",
      "Loop Ended\n"
     ]
    }
   ],
   "source": [
    "apel = 5\n",
    "while apel>0:\n",
    "    apel-=1\n",
    "    if apel ==2:\n",
    "        continue\n",
    "    print(apel)\n",
    "print('Loop Ended')"
   ]
  },
  {
   "cell_type": "code",
   "execution_count": 36,
   "id": "e01c1285",
   "metadata": {},
   "outputs": [
    {
     "name": "stdout",
     "output_type": "stream",
     "text": [
      "8\n",
      "6\n",
      "4\n",
      "2\n",
      "0\n",
      "loop ended\n"
     ]
    }
   ],
   "source": [
    "apel = 10\n",
    "while apel>0:\n",
    "    apel-=2\n",
    "    print(apel)\n",
    "else:\n",
    "    print('loop ended')"
   ]
  },
  {
   "cell_type": "code",
   "execution_count": 37,
   "id": "e470ee50",
   "metadata": {},
   "outputs": [
    {
     "name": "stdout",
     "output_type": "stream",
     "text": [
      "4\n",
      "3\n",
      "2\n"
     ]
    }
   ],
   "source": [
    "apel = 5\n",
    "while apel>0:\n",
    "    apel-=1\n",
    "    print(apel)\n",
    "    if apel==2:\n",
    "        break\n",
    "else:\n",
    "    print('Loop Done')"
   ]
  },
  {
   "cell_type": "markdown",
   "id": "78b3c331",
   "metadata": {},
   "source": [
    "NESTED IF-ELSE & LOOPS"
   ]
  },
  {
   "cell_type": "code",
   "execution_count": 38,
   "id": "46f5ea25",
   "metadata": {},
   "outputs": [
    {
     "name": "stdout",
     "output_type": "stream",
     "text": [
      "Dad\n"
     ]
    }
   ],
   "source": [
    "#Nested IF\n",
    "umur = 42\n",
    "gender = 'M'\n",
    "if umur <18:\n",
    "    if gender == 'M':\n",
    "        print('Son')\n",
    "    else:\n",
    "        print('Daughter')\n",
    "if umur >=18 and umur <65:\n",
    "    if gender == 'M':\n",
    "        print('Dad')\n",
    "    else:\n",
    "        print('Mom')"
   ]
  },
  {
   "cell_type": "markdown",
   "id": "b0ac2f16",
   "metadata": {},
   "source": [
    "ONE LINE WHILE LOOPS"
   ]
  },
  {
   "cell_type": "code",
   "execution_count": 39,
   "id": "3bc7edd6",
   "metadata": {},
   "outputs": [
    {
     "name": "stdout",
     "output_type": "stream",
     "text": [
      "4\n",
      "3\n",
      "2\n",
      "1\n",
      "0\n"
     ]
    }
   ],
   "source": [
    "apel = 5\n",
    "while apel>0:apel-=1;print(apel)"
   ]
  },
  {
   "cell_type": "markdown",
   "id": "433fa35a",
   "metadata": {},
   "source": [
    "FOR LOOP"
   ]
  },
  {
   "cell_type": "code",
   "execution_count": 40,
   "id": "cbec9d1e",
   "metadata": {},
   "outputs": [
    {
     "name": "stdout",
     "output_type": "stream",
     "text": [
      "1\n",
      "2\n",
      "3\n",
      "4\n",
      "5\n",
      "6\n"
     ]
    }
   ],
   "source": [
    "a = [1,2,3,4,5,6]\n",
    "for i in a:\n",
    "    print(i)"
   ]
  },
  {
   "cell_type": "code",
   "execution_count": 41,
   "id": "d61ac979",
   "metadata": {},
   "outputs": [
    {
     "name": "stdout",
     "output_type": "stream",
     "text": [
      "Budi\n",
      "Joko\n",
      "Anwar\n"
     ]
    }
   ],
   "source": [
    "b = ['Budi','Joko','Anwar']\n",
    "for i in b:\n",
    "    print(i)"
   ]
  },
  {
   "cell_type": "code",
   "execution_count": 42,
   "id": "3e45e65a",
   "metadata": {},
   "outputs": [
    {
     "name": "stdout",
     "output_type": "stream",
     "text": [
      "B\n",
      "u\n",
      "d\n",
      "i\n",
      "J\n",
      "o\n",
      "k\n",
      "o\n",
      "A\n",
      "n\n",
      "w\n",
      "a\n",
      "r\n"
     ]
    }
   ],
   "source": [
    "# Nested For Loop\n",
    "b = ['Budi','Joko','Anwar']\n",
    "for i in b:\n",
    "    for j in i :\n",
    "        print(j)"
   ]
  },
  {
   "cell_type": "code",
   "execution_count": 43,
   "id": "e5fb3c5b",
   "metadata": {},
   "outputs": [
    {
     "name": "stdout",
     "output_type": "stream",
     "text": [
      "B\n",
      "u\n",
      "d\n",
      "i\n"
     ]
    }
   ],
   "source": [
    "# Nested For Loop\n",
    "b = ['Budi','Joko','Anwar']\n",
    "for i in b:\n",
    "    if i == 'Joko':\n",
    "        break\n",
    "    for j in i :\n",
    "        print(j)"
   ]
  },
  {
   "cell_type": "code",
   "execution_count": 44,
   "id": "1bd35a4f",
   "metadata": {},
   "outputs": [
    {
     "name": "stdout",
     "output_type": "stream",
     "text": [
      "Bekasi\n"
     ]
    }
   ],
   "source": [
    "dictionary_a = {'A':'Bekasi','B':'Jakarta','C':'Medan'}\n",
    "for i in dictionary_a:\n",
    "    if dictionary_a[i] == 'Bekasi':\n",
    "        print(dictionary_a[i])"
   ]
  },
  {
   "cell_type": "code",
   "execution_count": 45,
   "id": "c018502e",
   "metadata": {},
   "outputs": [
    {
     "data": {
      "text/plain": [
       "dict_keys(['A', 'B', 'C'])"
      ]
     },
     "execution_count": 45,
     "metadata": {},
     "output_type": "execute_result"
    }
   ],
   "source": [
    "dictionary_a.keys()"
   ]
  },
  {
   "cell_type": "code",
   "execution_count": 46,
   "id": "5853622d",
   "metadata": {},
   "outputs": [
    {
     "data": {
      "text/plain": [
       "dict_values(['Bekasi', 'Jakarta', 'Medan'])"
      ]
     },
     "execution_count": 46,
     "metadata": {},
     "output_type": "execute_result"
    }
   ],
   "source": [
    "dictionary_a.values()"
   ]
  },
  {
   "cell_type": "code",
   "execution_count": 47,
   "id": "22233f26",
   "metadata": {},
   "outputs": [
    {
     "data": {
      "text/plain": [
       "dict_items([('A', 'Bekasi'), ('B', 'Jakarta'), ('C', 'Medan')])"
      ]
     },
     "execution_count": 47,
     "metadata": {},
     "output_type": "execute_result"
    }
   ],
   "source": [
    "dictionary_a.items()"
   ]
  },
  {
   "cell_type": "code",
   "execution_count": 48,
   "id": "be0188cc",
   "metadata": {},
   "outputs": [
    {
     "name": "stdout",
     "output_type": "stream",
     "text": [
      "Bekasi\n",
      "Jakarta\n",
      "Medan\n"
     ]
    }
   ],
   "source": [
    "dictionary_a = {'A':'Bekasi','B':'Jakarta','C':'Medan'}\n",
    "for i in dictionary_a.values():\n",
    "    print(i)"
   ]
  },
  {
   "cell_type": "code",
   "execution_count": 49,
   "id": "99681dd8",
   "metadata": {},
   "outputs": [
    {
     "name": "stdout",
     "output_type": "stream",
     "text": [
      "A\n",
      "B\n",
      "C\n"
     ]
    }
   ],
   "source": [
    "dictionary_a = {'A':'Bekasi','B':'Jakarta','C':'Medan'}\n",
    "for i in dictionary_a.keys():\n",
    "    print(i)"
   ]
  },
  {
   "cell_type": "code",
   "execution_count": 50,
   "id": "2208fc09",
   "metadata": {},
   "outputs": [
    {
     "name": "stdout",
     "output_type": "stream",
     "text": [
      "A Bekasi\n",
      "B Jakarta\n",
      "C Medan\n"
     ]
    }
   ],
   "source": [
    "dictionary_a = {'A':'Bekasi','B':'Jakarta','C':'Medan'}\n",
    "for i,j in dictionary_a.items():\n",
    "    print(i,j)"
   ]
  },
  {
   "cell_type": "code",
   "execution_count": 51,
   "id": "577073a8",
   "metadata": {},
   "outputs": [
    {
     "name": "stdout",
     "output_type": "stream",
     "text": [
      "Aster\n",
      "Hachi\n"
     ]
    }
   ],
   "source": [
    "#Continue\n",
    "for i in ['Aster','Jubah','Nambo','Hachi']:\n",
    "    if 'b' in i:\n",
    "        continue\n",
    "    print(i)"
   ]
  },
  {
   "cell_type": "code",
   "execution_count": 52,
   "id": "92c7e2b6",
   "metadata": {},
   "outputs": [
    {
     "name": "stdout",
     "output_type": "stream",
     "text": [
      "Aster\n",
      "Jubah\n",
      "Nambo\n",
      "Hachi\n"
     ]
    }
   ],
   "source": [
    "#Pass\n",
    "for i in ['Aster','Jubah','Nambo','Hachi']:\n",
    "    if 'b' in i:\n",
    "        pass\n",
    "    print(i)"
   ]
  },
  {
   "cell_type": "code",
   "execution_count": 53,
   "id": "b4ff1c3b",
   "metadata": {},
   "outputs": [
    {
     "name": "stdout",
     "output_type": "stream",
     "text": [
      "Aster\n"
     ]
    }
   ],
   "source": [
    "#Break\n",
    "for i in ['Aster','Jubah','Nambo','Hachi']:\n",
    "    if 'b' in i:\n",
    "        break\n",
    "    print(i)"
   ]
  },
  {
   "cell_type": "code",
   "execution_count": 54,
   "id": "0a2e73dc",
   "metadata": {},
   "outputs": [
    {
     "name": "stdout",
     "output_type": "stream",
     "text": [
      "Aster\n",
      "Jubah\n",
      "Nambo\n",
      "Hachi\n",
      "Loop Done\n"
     ]
    }
   ],
   "source": [
    "for i in ['Aster','Jubah','Nambo','Hachi'] :\n",
    "    print(i)\n",
    "else:\n",
    "    print('Loop Done')"
   ]
  },
  {
   "cell_type": "code",
   "execution_count": 55,
   "id": "e5d7aaaa",
   "metadata": {},
   "outputs": [
    {
     "name": "stdout",
     "output_type": "stream",
     "text": [
      "Aster\n"
     ]
    }
   ],
   "source": [
    "#Break \n",
    "for i in ['Aster','Jubah','Nambo','Hachi']:\n",
    "    if 'b' in i:\n",
    "        break\n",
    "    print(i)\n",
    "else:\n",
    "    print('Loop Done')"
   ]
  },
  {
   "cell_type": "code",
   "execution_count": 56,
   "id": "65e4af30",
   "metadata": {},
   "outputs": [
    {
     "name": "stdout",
     "output_type": "stream",
     "text": [
      "1\n",
      "2\n",
      "3\n",
      "4\n",
      "5\n",
      "6\n",
      "7\n",
      "8\n",
      "9\n"
     ]
    }
   ],
   "source": [
    "for i in [1,2,3,4,5,6,7,8,9]:\n",
    "    print(i)"
   ]
  },
  {
   "cell_type": "code",
   "execution_count": 57,
   "id": "97af728f",
   "metadata": {},
   "outputs": [
    {
     "name": "stdout",
     "output_type": "stream",
     "text": [
      "12\n",
      "15\n",
      "18\n"
     ]
    }
   ],
   "source": [
    "a = [1,2,3]\n",
    "b = [4,5,6]\n",
    "c = [7,8,9]\n",
    "for i,j,k in zip(a,b,c):\n",
    "    print(i+j+k)"
   ]
  },
  {
   "cell_type": "code",
   "execution_count": 58,
   "id": "6e7a880e",
   "metadata": {},
   "outputs": [
    {
     "name": "stdout",
     "output_type": "stream",
     "text": [
      "<zip object at 0x000002325ED05240>\n"
     ]
    }
   ],
   "source": [
    "print(zip(a,b))"
   ]
  },
  {
   "cell_type": "raw",
   "id": "32341191",
   "metadata": {},
   "source": [
    "quiz\n",
    "\n",
    "Menggunakan while loop buatlah program sederhana, ketika bertemu dengan angka ganjil, maka print angkanya. ketika bertemu dengan angka genap, maka print \"GENAP\". batas angka 1-20"
   ]
  },
  {
   "cell_type": "code",
   "execution_count": 59,
   "id": "07e32b5f",
   "metadata": {},
   "outputs": [
    {
     "name": "stdout",
     "output_type": "stream",
     "text": [
      "1\n",
      "GENAP\n",
      "3\n",
      "GENAP\n",
      "5\n",
      "GENAP\n",
      "7\n",
      "GENAP\n",
      "9\n",
      "GENAP\n",
      "11\n",
      "GENAP\n",
      "13\n",
      "GENAP\n",
      "15\n",
      "GENAP\n",
      "17\n",
      "GENAP\n",
      "19\n",
      "GENAP\n"
     ]
    }
   ],
   "source": [
    "i = 1\n",
    "while i <=20:\n",
    "    if i % 2==1:\n",
    "        print(i)\n",
    "    else:\n",
    "        print(\"GENAP\")\n",
    "    i+=1"
   ]
  },
  {
   "cell_type": "code",
   "execution_count": 62,
   "id": "f493ab77",
   "metadata": {},
   "outputs": [
    {
     "name": "stdin",
     "output_type": "stream",
     "text": [
      " 10\n"
     ]
    },
    {
     "name": "stdout",
     "output_type": "stream",
     "text": [
      "1 \n",
      "1 2 \n",
      "1 2 3 \n",
      "1 2 3 4 \n",
      "1 2 3 4 5 \n",
      "1 2 3 4 5 6 \n",
      "1 2 3 4 5 6 7 \n",
      "1 2 3 4 5 6 7 8 \n",
      "1 2 3 4 5 6 7 8 9 \n",
      "1 2 3 4 5 6 7 8 9 10 \n"
     ]
    }
   ],
   "source": [
    "# tugas\n",
    "rows = int(input())\n",
    "for i in range(1, rows + 1):\n",
    "    for j in range(1, i + 1):\n",
    "        print(j, end=' ')\n",
    "    print('')"
   ]
  },
  {
   "cell_type": "code",
   "execution_count": null,
   "id": "64f15e17-6c9e-4ac0-ab3a-76111aa55293",
   "metadata": {},
   "outputs": [],
   "source": []
  }
 ],
 "metadata": {
  "kernelspec": {
   "display_name": "Python 3 (ipykernel)",
   "language": "python",
   "name": "python3"
  },
  "language_info": {
   "codemirror_mode": {
    "name": "ipython",
    "version": 3
   },
   "file_extension": ".py",
   "mimetype": "text/x-python",
   "name": "python",
   "nbconvert_exporter": "python",
   "pygments_lexer": "ipython3",
   "version": "3.9.13"
  }
 },
 "nbformat": 4,
 "nbformat_minor": 5
}
